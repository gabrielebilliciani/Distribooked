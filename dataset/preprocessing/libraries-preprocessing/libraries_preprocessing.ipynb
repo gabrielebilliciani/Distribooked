{
 "cells": [
  {
   "cell_type": "code",
   "execution_count": 6,
   "id": "01be60cc-0163-49c7-9409-495d3e61c8a0",
   "metadata": {},
   "outputs": [
    {
     "name": "stdout",
     "output_type": "stream",
     "text": [
      "Fields in the dataframe:\n",
      "['codice_isil', 'codice_sbn', 'denominazione', 'indirizzo', 'cap', 'comune', 'codice_istat_comune', 'provincia', 'regione', 'codice_istat_provincia', 'latitudine', 'longitudine', 'telefono', 'fax', 'email', 'url']\n"
     ]
    }
   ],
   "source": [
    "import pandas as pd\n",
    "\n",
    "# file path\n",
    "file_path = 'datasets/libraries.xlsx'\n",
    "\n",
    "# Import the dataset into a pandas dataframe\n",
    "df = pd.read_excel(file_path)\n",
    "\n",
    "# Display all the fields (columns) of the dataframe\n",
    "fields = df.columns.tolist()\n",
    "print(\"Fields in the dataframe:\")\n",
    "print(fields)\n"
   ]
  },
  {
   "cell_type": "code",
   "execution_count": 7,
   "id": "3881f316-82e7-48e7-8789-f683f850421c",
   "metadata": {},
   "outputs": [
    {
     "name": "stdout",
     "output_type": "stream",
     "text": [
      "Remaining fields in the dataframe:\n",
      "['codice_isil', 'denominazione', 'indirizzo', 'cap', 'comune', 'provincia', 'regione', 'latitudine', 'longitudine', 'telefono', 'fax', 'email', 'url']\n"
     ]
    }
   ],
   "source": [
    "# List of fields to remove\n",
    "fields_to_remove = ['codice_sbn', 'codice_istat_comune', 'codice_istat_provincia']\n",
    "\n",
    "# Drop the fields from the dataframe\n",
    "df = df.drop(columns=fields_to_remove, errors='ignore')\n",
    "\n",
    "# Display the remaining fields\n",
    "print(\"Remaining fields in the dataframe:\")\n",
    "print(df.columns.tolist())\n"
   ]
  },
  {
   "cell_type": "code",
   "execution_count": 8,
   "id": "bc196a79-ee61-4f87-a370-8e0977a07975",
   "metadata": {},
   "outputs": [
    {
     "name": "stdout",
     "output_type": "stream",
     "text": [
      "Number of records in the original dataframe: 13625\n",
      "Number of records in the filtered dataframe: 5677\n"
     ]
    }
   ],
   "source": [
    "# Show the number of records in the original dataframe\n",
    "print(f\"Number of records in the original dataframe: {len(df)}\")\n",
    "\n",
    "# Create a new dataframe by removing records with NaN values in any field\n",
    "df_filtered = df.dropna()\n",
    "\n",
    "# Show the number of records in the filtered dataframe\n",
    "print(f\"Number of records in the filtered dataframe: {len(df_filtered)}\")\n"
   ]
  },
  {
   "cell_type": "code",
   "execution_count": 9,
   "id": "2628b891-1e0b-46c7-b962-308400a46f69",
   "metadata": {},
   "outputs": [
    {
     "name": "stdout",
     "output_type": "stream",
     "text": [
      "Number of records in the df_pisa dataframe: 26\n"
     ]
    }
   ],
   "source": [
    "# Create a new dataframe containing only records with \"Pisa\" in the \"comune\" field\n",
    "df_pisa = df_filtered[df_filtered['comune'] == 'Pisa']\n",
    "\n",
    "# Print the number of records in the df_pisa dataframe\n",
    "print(f\"Number of records in the df_pisa dataframe: {len(df_pisa)}\")\n"
   ]
  },
  {
   "cell_type": "code",
   "execution_count": 10,
   "id": "f0ee3ee3-5053-4c66-9f78-56792829ba8d",
   "metadata": {},
   "outputs": [
    {
     "name": "stdout",
     "output_type": "stream",
     "text": [
      "The df_pisa dataframe has been saved as a pretty JSON file: 'branches_dataset.json'\n"
     ]
    }
   ],
   "source": [
    "# Save df_pisa as a pretty JSON file\n",
    "df_pisa.to_json('branches_dataset.json', orient='records', lines=False, indent=4)\n",
    "\n",
    "print(\"The df_pisa dataframe has been saved as a pretty JSON file: 'branches_dataset.json'\")\n"
   ]
  },
  {
   "cell_type": "code",
   "execution_count": null,
   "id": "9f979005-4711-4a37-bbda-185c9870c68c",
   "metadata": {},
   "outputs": [],
   "source": []
  }
 ],
 "metadata": {
  "kernelspec": {
   "display_name": "Python 3 (ipykernel)",
   "language": "python",
   "name": "python3"
  },
  "language_info": {
   "codemirror_mode": {
    "name": "ipython",
    "version": 3
   },
   "file_extension": ".py",
   "mimetype": "text/x-python",
   "name": "python",
   "nbconvert_exporter": "python",
   "pygments_lexer": "ipython3",
   "version": "3.11.10"
  }
 },
 "nbformat": 4,
 "nbformat_minor": 5
}
